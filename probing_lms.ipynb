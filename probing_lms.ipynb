{
 "cells": [
  {
   "cell_type": "markdown",
   "metadata": {},
   "source": [
    "__Probing Language Models__\n",
    "\n",
    "This notebook serves as a start for your NLP2 assignment on probing Language Models. This notebook will become part of the contents that you will submit at the end, so make sure to keep your code (somewhat) clean :-)\n",
    "\n",
    "__note__: This is only the second time anyone is doing this assignment. That's exciting! But it might well be the case that certain aspects are too unclear. Do not hesitate at all to reach to me once you get stuck, I'd be grateful to help you out.\n",
    "\n",
    "__note 2__: This assignment is not dependent on big fancy GPUs. I run all this stuff on my own 3 year old CPU, without any Colab hassle. So it's up to you to decide how you want to run it."
   ]
  },
  {
   "cell_type": "markdown",
   "metadata": {},
   "source": [
    "# Models\n",
    "\n",
    "For the Transformer models you are advised to make use of the `transformers` library of Huggingface: https://github.com/huggingface/transformers\n",
    "Their library is well documented, and they provide great tools to easily load in pre-trained models."
   ]
  },
  {
   "cell_type": "code",
   "execution_count": 12,
   "metadata": {},
   "outputs": [
    {
     "output_type": "stream",
     "name": "stderr",
     "text": [
      "Some weights of GPT2Model were not initialized from the model checkpoint at distilgpt2 and are newly initialized: ['transformer.h.0.attn.masked_bias', 'transformer.h.1.attn.masked_bias', 'transformer.h.2.attn.masked_bias', 'transformer.h.3.attn.masked_bias', 'transformer.h.4.attn.masked_bias', 'transformer.h.5.attn.masked_bias']\nYou should probably TRAIN this model on a down-stream task to be able to use it for predictions and inference.\n"
     ]
    }
   ],
   "source": [
    "#\n",
    "## Your code for initializing the transformer model(s)\n",
    "#\n",
    "# Note that most transformer models use their own `tokenizer`, that should be loaded in as well.\n",
    "#\n",
    "from transformers import pipeline, GPT2Model, GPT2TokenizerFast\n",
    "\n",
    "\n",
    "\n",
    "gpt2 = GPT2Model.from_pretrained(\"distilgpt2\")\n",
    "tokenizer = GPT2TokenizerFast.from_pretrained(\"distilgpt2\")\n",
    "tokenizer.pad_token = tokenizer.eos_token\n",
    "tokenizer.padding_side = \"left\"\n",
    "gpt2.resize_token_embeddings(len(tokenizer))\n",
    "gpt2.config.pad_token_id = gpt2.config.eos_token_id\n",
    "tokenizer.is_split_into_words=True\n",
    "# tokenizer.add_prefix_space=True\n",
    "\n",
    "# Note that some models don't return the hidden states by default.\n",
    "# This can be configured by passing `output_hidden_states=True` to the `from_pretrained` method."
   ]
  },
  {
   "cell_type": "code",
   "execution_count": 13,
   "metadata": {},
   "outputs": [],
   "source": [
    "#\n",
    "## Your code for initializing the rnn model(s)\n",
    "#\n",
    "# The Gulordava LSTM model can be found here: \n",
    "# https://drive.google.com/file/d/19Lp3AM4NEPycp_IBgoHfLc_V456pmUom/view?usp=sharing\n",
    "#\n",
    "# N.B: I have altered the RNNModel code to only output the hidden states that you are interested in.\n",
    "# If you want to do more experiments with this model you could have a look at the original code here:\n",
    "# https://github.com/facebookresearch/colorlessgreenRNNs/blob/master/src/language_models/model.py\n",
    "#\n",
    "from collections import defaultdict\n",
    "from lstm.model import RNNModel\n",
    "import torch\n",
    "\n",
    "\n",
    "model_location = 'lstm/state_dict.pt'  # <- point this to the location of the Gulordava .pt file\n",
    "lstm = RNNModel('LSTM', 50001, 650, 650, 2)\n",
    "lstm.load_state_dict(torch.load(model_location))\n",
    "\n",
    "\n",
    "# This LSTM does not use a Tokenizer like the Transformers, but a Vocab dictionary that maps a token to an id.\n",
    "with open('lstm/vocab.txt', encoding='utf-8') as f:\n",
    "        w2i = {w.strip(): i for i, w in enumerate(f)}\n",
    "\n",
    "vocab = defaultdict(lambda: w2i[\"<unk>\"])\n",
    "vocab.update(w2i)"
   ]
  },
  {
   "cell_type": "markdown",
   "metadata": {},
   "source": [
    "It is a good idea that before you move on, you try to feed some text to your LMs; and check if everything works accordingly. "
   ]
  },
  {
   "cell_type": "markdown",
   "metadata": {},
   "source": [
    "# Data\n",
    "\n",
    "For this assignment you will train your probes on __treebank__ corpora. A treebank is a corpus that has been *parsed*, and stored in a representation that allows the parse tree to be recovered. Next to a parse tree, treebanks also often contain information about part-of-speech tags, which is exactly what we are after now.\n",
    "\n",
    "The treebank you will use for now is part of the Universal Dependencies project. I provide a sample of this treebank as well, so you can test your setup on that before moving on to larger amounts of data.\n",
    "\n",
    "Make sure you accustom yourself to the format that is created by the `conllu` library that parses the treebank files before moving on. For example, make sure you understand how you can access the pos tag of a token, or how to cope with the tree structure that is formed using the `to_tree()` functionality."
   ]
  },
  {
   "cell_type": "code",
   "execution_count": 14,
   "metadata": {},
   "outputs": [],
   "source": [
    "# READ DATA\n",
    "from typing import List\n",
    "from conllu import parse_incr, TokenList\n",
    "\n",
    "\n",
    "# If stuff like `: str` and `-> ..` seems scary, fear not! \n",
    "# These are type hints that help you to understand what kind of argument and output is expected.\n",
    "def parse_corpus(filename: str) -> List[TokenList]:\n",
    "    data_file = open(filename, encoding=\"utf-8\")\n",
    "\n",
    "    ud_parses = list(parse_incr(data_file))\n",
    "    \n",
    "    return ud_parses"
   ]
  },
  {
   "source": [
    "Parse_corpus returns a list of TokenLists. A TokenList represents a single sentence and is a list of dicts. \n",
    "There is one dict for every token in the sentence, containing:\n",
    "\n",
    "    ID: Word index, integer starting at 1 for each new sentence; may be a range for multiword tokens; may be a decimal number for empty nodes (decimal numbers can be lower than 1 but must be greater than 0).\n",
    "    FORM: Word form or punctuation symbol.\n",
    "    LEMMA: Lemma or stem of word form.\n",
    "    UPOS: Universal part-of-speech tag.\n",
    "    XPOS: Language-specific part-of-speech tag; underscore if not available.\n",
    "    FEATS: List of morphological features from the universal feature inventory or from a defined language-specific extension; underscore if not available.\n",
    "    HEAD: Head of the current word, which is either a value of ID or zero (0).\n",
    "    DEPREL: Universal dependency relation to the HEAD (root iff HEAD = 0) or a defined language-specific subtype of one.\n",
    "    DEPS: Enhanced dependency graph in the form of a list of head-deprel pairs.\n",
    "    MISC: Any other annotation.\n",
    "\n"
   ],
   "cell_type": "markdown",
   "metadata": {}
  },
  {
   "source": [
    "# Generating Representations\n",
    "\n",
    "We now have our data all set, our models are running and we are good to go!\n",
    "\n",
    "The next step is now to create the model representations for the sentences in our corpora. Once we have generated these representations we can store them, and train additional diagnostic (/probing) classifiers on top of the representations.\n",
    "\n",
    "There are a few things you should keep in mind here. Read these carefully, as these tips will save you a lot of time in your implementation.\n",
    "\n",
    "1. Transformer models make use of Byte-Pair Encodings (BPE), that chunk up a piece of next in subword pieces. For example, a word such as \"largely\" could be chunked up into \"large\" and \"ly\". We are interested in probing linguistic information on the __word__-level. Therefore, we will follow the suggestion of Hewitt et al. (2019a, footnote 4), and create the representation of a word by averaging over the representations of its subwords. So the representation of \"largely\" becomes the average of that of \"large\" and \"ly\".\n",
    "\n",
    "\n",
    "2. Subword chunks never overlap multiple tokens. In other words, say we have a phrase like \"None of the\", then the tokenizer might chunk that into \"No\"+\"ne\"+\" of\"+\" the\", but __not__ into \"No\"+\"ne o\"+\"f the\", as those chunks overlap multiple tokens. This is great for our setup! Otherwise it would have been quite challenging to distribute the representation of a subword over the 2 tokens it belongs to.\n",
    "\n",
    "\n",
    "3. **Important**: If you closely examine the provided treebank, you will notice that some tokens are split up into multiple pieces, that each have their own POS-tag. For example, in the first sentence the word \"Al-Zaman\" is split into \"Al\", \"-\", and \"Zaman\". In such cases, the conllu `TokenList` format will add the following attribute: `('misc', OrderedDict([('SpaceAfter', 'No')]))` to these tokens. Your model's tokenizer does not need to adhere to the same tokenization. E.g., \"Al-Zaman\" could be split into \"Al-\"+\"Za\"+\"man\", making it hard to match the representations with their correct pos-tag. Therefore I recommend you to not tokenize your entire sentence at once, but to do this based on the chunking of the treebank. <br /><br />\n",
    "Make sure to still incoporate the spaces in a sentence though, as these are part of the BPE of the tokenizer. That is, the tokenizer uses a different token id for `\"man\"`, than it does for `\" man\"`: the former could be part of `\" woman\"`=`\" wo`\"+`\"man\"`, whereas the latter would be the used in case *man* occurs at the start of a word. The tokenizer for GPT-2 adds spaces at the start of a token (represented as a `Ġ` symbol). This means that you should keep track whether the previous token had the `SpaceAfter` attribute set to `'No'`: in case it did not, you should manually prepend a `\" \"` ahead of the token.\n",
    "\n",
    "\n",
    "4. The LSTM LM does not have the issues related to subwords, but is far more restricted in its vocabulary. Make sure you keep the above points in mind though, when creating the LSTM representations. You might want to write separate functions for the LSTM, but that is up to you.\n",
    "\n",
    "\n",
    "5. **N.B.**: Make sure that when you run a sentence through your model, you do so within a `with torch.no_grad():` block, and that you have run `model.eval()` beforehand as well (to disable dropout).\n",
    "\n",
    "\n",
    "6. **N.B.**: Make sure to use a token's ``[\"form\"]`` attribute, and not the ``[\"lemma\"]``, as the latter will stem any relevant morphological information from the token. We don't want this, because we want to feed well-formed, grammatical sentences to our model.\n",
    "\n",
    "\n",
    "I would like to stress that if you feel hindered in any way by the simple code structure that is presented here, you are free to modify it :-) Just make sure it is clear to an outsider what you're doing, some helpful comments never hurt."
   ],
   "cell_type": "markdown",
   "metadata": {}
  },
  {
   "cell_type": "code",
   "execution_count": 15,
   "metadata": {},
   "outputs": [],
   "source": [
    "# FETCH SENTENCE REPRESENTATIONS\n",
    "from torch import Tensor\n",
    "import pickle\n",
    "\n",
    "\n",
    "# Should return a tensor of shape (num_tokens_in_corpus, representation_size)\n",
    "# Make sure you correctly average the subword representations that belong to 1 token!\n",
    "\n",
    "def fetch_sen_reps(ud_parses: List[TokenList], model, tokenizer, concat=False) -> Tensor:\n",
    "    # output needs to be of size (n_sentences, max_seq_len, emb_dim)\n",
    "    # lstm emb_dim = 650, gpt2 emb_dim = 768\n",
    "    max_len = max([len(tokenlist) for tokenlist in ud_parses])\n",
    "\n",
    "    if isinstance(tokenizer, defaultdict):\n",
    "        output = torch.zeros((len(ud_parses), max_len, 650))\n",
    "\n",
    "        for i in range(len(ud_parses)):\n",
    "            tokenlist = ud_parses[i]\n",
    "            tokens = [tokenizer[token['form']] for token in tokenlist]\n",
    "            encoded_input = torch.as_tensor(tokens).reshape(1, -1)\n",
    "            model.eval()\n",
    "            with torch.no_grad():\n",
    "                hidden = model.init_hidden(encoded_input.shape[0])\n",
    "                result = model(encoded_input, hidden).squeeze()\n",
    "            output[i, :len(tokenlist), :] = result\n",
    "\n",
    "    else:\n",
    "        output = torch.zeros((len(ud_parses), max_len, 768))\n",
    "        for i  in range(len(ud_parses)):\n",
    "            tokenlist = ud_parses[i]\n",
    "            space = False\n",
    "            ids = []\n",
    "            mask = []\n",
    "\n",
    "            for j in range(len(tokenlist)):\n",
    "                token = tokenlist[j]\n",
    "                form = \" \" + token['form'] if space else token['form']\n",
    "                space = True if not token['misc'] else False\n",
    "                tokenized = tokenizer(form)\n",
    "                seq_length = len(tokenized['input_ids'])\n",
    "                result = 0\n",
    "                for k in range(seq_length):\n",
    "                    ids.append(tokenized['input_ids'][k])\n",
    "                    mask.append(tokenized['attention_mask'][k])\n",
    "                    encoded_input = {'input_ids': torch.as_tensor(ids), 'attention_mask': torch.as_tensor(mask)}\n",
    "                    model.eval()\n",
    "                    with torch.no_grad():\n",
    "                        result += model(**encoded_input).last_hidden_state[-1, :]\n",
    "\n",
    "                result /= seq_length\n",
    "                output[i, j, :] = result\n",
    "            \n",
    "    output = output.squeeze()\n",
    "    return output"
   ]
  },
  {
   "cell_type": "code",
   "execution_count": 16,
   "metadata": {},
   "outputs": [],
   "source": [
    "def test_sen_reps():\n",
    "    corpus = parse_corpus('data/sample/en_ewt-ud-train.conllu')[:1]\n",
    "    own_distilgpt2_emb1 = fetch_sen_reps(corpus, gpt2, tokenizer)\n",
    "\n",
    "test_sen_reps()"
   ]
  },
  {
   "cell_type": "markdown",
   "metadata": {},
   "source": [
    "To validate your activation extraction procedure I have set up the following assertion function as a sanity check. It compares your representation against a pickled version of mine. \n",
    "\n",
    "For this I used `distilgpt2`."
   ]
  },
  {
   "cell_type": "code",
   "execution_count": 17,
   "metadata": {
    "tags": []
   },
   "outputs": [],
   "source": [
    "def error_msg(model_name, gold_embs, embs, i2w):\n",
    "    with open(f'{model_name}_tokens1.pickle', 'rb') as f:\n",
    "        sen_tokens = pickle.load(f)\n",
    "        \n",
    "    diff = torch.abs(embs - gold_embs)\n",
    "    max_diff = torch.max(diff)\n",
    "    avg_diff = torch.mean(diff)\n",
    "    \n",
    "    print(f\"{model_name} embeddings don't match!\")\n",
    "    print(f\"Max diff.: {max_diff:.4f}\\nMean diff. {avg_diff:.4f}\")\n",
    "\n",
    "    print(\"\\nCheck if your tokenization matches with the original tokenization:\")\n",
    "    for idx in sen_tokens.squeeze():\n",
    "        if isinstance(i2w, list):\n",
    "            token = i2w[idx]\n",
    "        else:\n",
    "            token = i2w.convert_ids_to_tokens(idx.item())\n",
    "        print(f\"{idx:<6} {token}\")\n",
    "\n",
    "\n",
    "def assert_sen_reps(gpt2, tokenizer, lstm, vocab):\n",
    "    with open('distilgpt2_emb1.pickle', 'rb') as f:\n",
    "        distilgpt2_emb1 = pickle.load(f)\n",
    "        \n",
    "    with open('lstm_emb1.pickle', 'rb') as f:\n",
    "        lstm_emb1 = pickle.load(f)\n",
    "    \n",
    "    corpus = parse_corpus('data/sample/en_ewt-ud-train.conllu')[:1]\n",
    "    \n",
    "    own_distilgpt2_emb1 = fetch_sen_reps(corpus, gpt2, tokenizer)\n",
    "    own_lstm_emb1 = fetch_sen_reps(corpus, lstm, vocab)\n",
    "    assert distilgpt2_emb1.shape == own_distilgpt2_emb1.shape, \\\n",
    "        f\"Distilgpt2 shape mismatch: {distilgpt2_emb1.shape} (gold) vs. {own_distilgpt2_emb1.shape} (yours)\"\n",
    "    assert lstm_emb1.shape == own_lstm_emb1.shape, \\\n",
    "        f\"LSTM shape mismatch: {lstm_emb1.shape} (gold) vs. {own_lstm_emb1.shape} (yours)\"\n",
    "\n",
    "    if not torch.allclose(distilgpt2_emb1, own_distilgpt2_emb1, rtol=1e-3, atol=1e-3):\n",
    "        error_msg(\"distilgpt2\", distilgpt2_emb1, own_distilgpt2_emb1, tokenizer)\n",
    "    if not torch.allclose(lstm_emb1, own_lstm_emb1, rtol=1e-3, atol=1e-3):\n",
    "        error_msg(\"lstm\", lstm_emb1, own_lstm_emb1, list(vocab.keys()))\n",
    "\n",
    "assert_sen_reps(gpt2, tokenizer, lstm, vocab)"
   ]
  },
  {
   "cell_type": "markdown",
   "metadata": {},
   "source": [
    "Next, we should define a function that extracts the corresponding POS labels for each activation, which we do based on the **``\"upostag\"``** attribute of a token (so not the ``xpostag`` attribute). These labels will be transformed to a tensor containing the label index for each item.\n",
    "\n",
    "Upos-tags are assigned in the following order:\n",
    "\n",
    "1. ADJ: adjective\n",
    "2. ADP: adposition\n",
    "3. ADV: adverb\n",
    "4. AUX: auxiliary\n",
    "5. CCONJ: coordinating conjunction\n",
    "6. DET: determiner\n",
    "7. INTJ: interjection\n",
    "8. NOUN: noun\n",
    "9. NUM: numeral\n",
    "10. PART: particle\n",
    "11. PRON: pronoun\n",
    "12. PROPN: proper noun\n",
    "13. PUNCT: punctuation\n",
    "14. SCONJ: subordinating conjunction\n",
    "15. SYM: symbol\n",
    "16. VERB: verb\n",
    "17. X: other"
   ]
  },
  {
   "cell_type": "code",
   "execution_count": 18,
   "metadata": {},
   "outputs": [],
   "source": [
    "# FETCH POS LABELS\n",
    "\n",
    "# Should return a tensor of shape (num_tokens_in_corpus,)\n",
    "# Make sure that when fetching these pos tags for your train/dev/test corpora you share the label vocabulary.\n",
    "def fetch_pos_tags(ud_parses: List[TokenList], pos_vocab=None) -> Tensor:\n",
    "    pos_vocab = {'ADJ': 1, 'ADP': 2, 'ADV': 3, 'AUX': 4, 'CCONJ': 5, 'DET': 6, 'INTJ': 7, 'NOUN': 8, 'NUM': 9, 'PART': 10, 'PRON': 11, 'PROPN': 12, 'PUNCT': 13, 'SCONJ': 14, 'SYM': 15, 'VERB': 16, 'X': 17}\n",
    "\n",
    "    pos_list = [pos_vocab[token['upostag']] for tokenlist in ud_parses for token in tokenlist]\n",
    "    return torch.as_tensor(pos_list).reshape(-1,), pos_vocab\n"
   ]
  },
  {
   "cell_type": "code",
   "execution_count": 20,
   "metadata": {
    "scrolled": false
   },
   "outputs": [],
   "source": [
    "import os\n",
    "\n",
    "# Function that combines the previous functions, and creates 2 tensors for a .conllu file: \n",
    "# 1 containing the token representations, and 1 containing the (tokenized) pos_tags.\n",
    "\n",
    "def create_data(filename: str, lm, w2i, pos_vocab=None):\n",
    "    ud_parses = parse_corpus(filename)\n",
    "    \n",
    "    sen_reps = fetch_sen_reps(ud_parses, lm, w2i)\n",
    "    pos_tags, pos_vocab = fetch_pos_tags(ud_parses, pos_vocab=pos_vocab)\n",
    "    \n",
    "    return sen_reps, pos_tags, pos_vocab\n",
    "\n",
    "\n",
    "lm = gpt2  # or `lstm`\n",
    "w2i = tokenizer  # or `vocab`\n",
    "use_sample = True\n",
    "\n",
    "train_x, train_y, train_vocab = create_data(\n",
    "    os.path.join('data', 'sample' if use_sample else '', 'en_ewt-ud-train.conllu'),\n",
    "    lm, \n",
    "    w2i\n",
    ")\n",
    "\n",
    "dev_x, dev_y, _ = create_data(\n",
    "    os.path.join('data', 'sample' if use_sample else '', 'en_ewt-ud-dev.conllu'),\n",
    "    lm, \n",
    "    w2i,\n",
    "    pos_vocab=train_vocab\n",
    ")\n",
    "\n",
    "test_x, test_y, _ = create_data(\n",
    "    os.path.join('data', 'sample' if use_sample else '', 'en_ewt-ud-test.conllu'),\n",
    "    lm,\n",
    "    w2i,\n",
    "    pos_vocab=train_vocab\n",
    ")"
   ]
  },
  {
   "cell_type": "markdown",
   "metadata": {},
   "source": [
    "# Diagnostic Classification\n",
    "\n",
    "We now have our models, our data, _and_ our representations all set! Hurray, well done. We can finally move onto the cool stuff, i.e. training the diagnostic classifiers (DCs).\n",
    "\n",
    "DCs are simple in their complexity on purpose. To read more about why this is the case you could already have a look at the \"Designing and Interpreting Probes with Control Tasks\" by Hewitt and Liang (esp. Sec. 3.2).\n",
    "\n",
    "A simple linear classifier will suffice for now, don't bother with adding fancy non-linearities to it.\n",
    "\n",
    "I am personally a fan of the `skorch` library, that provides `sklearn`-like functionalities for training `torch` models, but you are free to train your dc using whatever method you prefer.\n",
    "\n",
    "As this is an Artificial Intelligence master and you have all done ML1 + DL, I expect you to use your train/dev/test splits correctly ;-)"
   ]
  },
  {
   "cell_type": "code",
   "execution_count": 21,
   "metadata": {},
   "outputs": [],
   "source": [
    "# DIAGNOSTIC CLASSIFIER\n",
    "\n"
   ]
  },
  {
   "cell_type": "markdown",
   "metadata": {},
   "source": [
    "# Trees\n",
    "\n",
    "For our gold labels, we need to recover the node distances from our parse tree. For this we will use the functionality provided by `ete3`, that allows us to compute that directly. I have provided code that transforms a `TokenTree` to a `Tree` in `ete3` format."
   ]
  },
  {
   "cell_type": "code",
   "execution_count": 64,
   "metadata": {},
   "outputs": [],
   "source": [
    "# In case you want to transform your conllu tree to an nltk.Tree, for better visualisation\n",
    "\n",
    "def rec_tokentree_to_nltk(tokentree):\n",
    "    token = tokentree.token[\"form\"]\n",
    "    tree_str = f\"({token} {' '.join(rec_tokentree_to_nltk(t) for t in tokentree.children)})\"\n",
    "\n",
    "    return tree_str\n",
    "\n",
    "\n",
    "def tokentree_to_nltk(tokentree):\n",
    "    from nltk import Tree as NLTKTree\n",
    "\n",
    "    tree_str = rec_tokentree_to_nltk(tokentree)\n",
    "\n",
    "    return NLTKTree.fromstring(tree_str)"
   ]
  },
  {
   "cell_type": "code",
   "execution_count": 65,
   "metadata": {},
   "outputs": [],
   "source": [
    "# !pip install ete3\n",
    "from ete3 import Tree as EteTree\n",
    "\n",
    "\n",
    "class FancyTree(EteTree):\n",
    "    def __init__(self, *args, **kwargs):\n",
    "        super().__init__(*args, format=1, **kwargs)\n",
    "        \n",
    "    def __str__(self):\n",
    "        return self.get_ascii(show_internal=True)\n",
    "    \n",
    "    def __repr__(self):\n",
    "        return str(self)\n",
    "\n",
    "\n",
    "def rec_tokentree_to_ete(tokentree):\n",
    "    idx = str(tokentree.token[\"id\"])\n",
    "    children = tokentree.children\n",
    "    if children:\n",
    "        return f\"({','.join(rec_tokentree_to_ete(t) for t in children)}){idx}\"\n",
    "    else:\n",
    "        return idx\n",
    "    \n",
    "def tokentree_to_ete(tokentree):\n",
    "    newick_str = rec_tokentree_to_ete(tokentree)\n",
    "\n",
    "    return FancyTree(f\"{newick_str};\")"
   ]
  },
  {
   "cell_type": "code",
   "execution_count": 58,
   "metadata": {},
   "outputs": [
    {
     "output_type": "error",
     "ename": "NameError",
     "evalue": "name 'tokentree_to_ete' is not defined",
     "traceback": [
      "\u001b[1;31m---------------------------------------------------------------------------\u001b[0m",
      "\u001b[1;31mNameError\u001b[0m                                 Traceback (most recent call last)",
      "\u001b[1;32m<ipython-input-58-36b509b444ac>\u001b[0m in \u001b[0;36m<module>\u001b[1;34m\u001b[0m\n\u001b[0;32m     18\u001b[0m     \u001b[0mprint\u001b[0m\u001b[1;33m(\u001b[0m\u001b[0mete3_tree\u001b[0m\u001b[1;33m)\u001b[0m\u001b[1;33m\u001b[0m\u001b[1;33m\u001b[0m\u001b[0m\n\u001b[0;32m     19\u001b[0m \u001b[1;33m\u001b[0m\u001b[0m\n\u001b[1;32m---> 20\u001b[1;33m \u001b[0mtest_ete\u001b[0m\u001b[1;33m(\u001b[0m\u001b[1;33m)\u001b[0m\u001b[1;33m\u001b[0m\u001b[1;33m\u001b[0m\u001b[0m\n\u001b[0m",
      "\u001b[1;32m<ipython-input-58-36b509b444ac>\u001b[0m in \u001b[0;36mtest_ete\u001b[1;34m()\u001b[0m\n\u001b[0;32m     15\u001b[0m     \u001b[0mitem\u001b[0m \u001b[1;33m=\u001b[0m \u001b[0mcorpus\u001b[0m\u001b[1;33m[\u001b[0m\u001b[1;36m0\u001b[0m\u001b[1;33m]\u001b[0m\u001b[1;33m\u001b[0m\u001b[1;33m\u001b[0m\u001b[0m\n\u001b[0;32m     16\u001b[0m     \u001b[0mtokentree\u001b[0m \u001b[1;33m=\u001b[0m \u001b[0mitem\u001b[0m\u001b[1;33m.\u001b[0m\u001b[0mto_tree\u001b[0m\u001b[1;33m(\u001b[0m\u001b[1;33m)\u001b[0m\u001b[1;33m\u001b[0m\u001b[1;33m\u001b[0m\u001b[0m\n\u001b[1;32m---> 17\u001b[1;33m     \u001b[0mete3_tree\u001b[0m \u001b[1;33m=\u001b[0m \u001b[0mtokentree_to_ete\u001b[0m\u001b[1;33m(\u001b[0m\u001b[0mtokentree\u001b[0m\u001b[1;33m)\u001b[0m\u001b[1;33m\u001b[0m\u001b[1;33m\u001b[0m\u001b[0m\n\u001b[0m\u001b[0;32m     18\u001b[0m     \u001b[0mprint\u001b[0m\u001b[1;33m(\u001b[0m\u001b[0mete3_tree\u001b[0m\u001b[1;33m)\u001b[0m\u001b[1;33m\u001b[0m\u001b[1;33m\u001b[0m\u001b[0m\n\u001b[0;32m     19\u001b[0m \u001b[1;33m\u001b[0m\u001b[0m\n",
      "\u001b[1;31mNameError\u001b[0m: name 'tokentree_to_ete' is not defined"
     ]
    }
   ],
   "source": [
    "# Let's check if it works!\n",
    "# We can read in a corpus using the code that was already provided, and convert it to an ete3 Tree.\n",
    "\n",
    "def parse_corpus(filename):\n",
    "    from conllu import parse_incr\n",
    "\n",
    "    data_file = open(filename, encoding=\"utf-8\")\n",
    "\n",
    "    ud_parses = list(parse_incr(data_file))\n",
    "    \n",
    "    return ud_parses\n",
    "\n",
    "def test_ete():\n",
    "    corpus = parse_corpus('data/sample/en_ewt-ud-train.conllu')\n",
    "    item = corpus[0]\n",
    "    tokentree = item.to_tree()\n",
    "    ete3_tree = tokentree_to_ete(tokentree)\n",
    "    print(ete3_tree)\n",
    "\n",
    "test_ete()"
   ]
  },
  {
   "cell_type": "markdown",
   "metadata": {},
   "source": [
    "As you can see we label a token by its token id (converted to a string). Based on these id's we are going to retrieve the node distances.\n",
    "\n",
    "To create the true distances of a parse tree in our treebank, we are going to use the `.get_distance` method that is provided by `ete3`: http://etetoolkit.org/docs/latest/tutorial/tutorial_trees.html#working-with-branch-distances\n",
    "\n",
    "We will store all these distances in a `torch.Tensor`.\n",
    "\n",
    "Please fill in the gap in the following method. I recommend you to have a good look at Hewitt's blog post  about these node distances."
   ]
  },
  {
   "source": [
    "From https://nlp.stanford.edu/~johnhew/structural-probe.html#fnref:1\n",
    "\n"
   ],
   "cell_type": "markdown",
   "metadata": {}
  },
  {
   "cell_type": "code",
   "execution_count": 63,
   "metadata": {},
   "outputs": [],
   "source": [
    "def create_gold_distances(corpus):\n",
    "    max_len = max([len(tokenlist) for tokenlist in corpus])\n",
    "    all_distances = torch.zeros(len(corpus), max_len, max_len)\n",
    "\n",
    "    for i in range(len((corpus))):\n",
    "        item = corpus[i]\n",
    "        tokentree = item.to_tree()\n",
    "        ete_tree = tokentree_to_ete(tokentree)\n",
    "        nodes = ete_tree.search_nodes()\n",
    "        sen_len = len(nodes)\n",
    "        distances = torch.zeros((sen_len, sen_len))\n",
    "\n",
    "        # Your code for computing all the distances comes here.\n",
    "        for j in range(sen_len):\n",
    "            for k in range(sen_len):\n",
    "                 all_distances[i, j, k] = nodes[j].get_distance(nodes[k])\n",
    "\n",
    "    return all_distances\n",
    "\n",
    "def test_gold_distances():\n",
    "    corpus = parse_corpus('data/sample/en_ewt-ud-train.conllu')\n",
    "    print(create_gold_distances(corpus[2:4]))"
   ]
  },
  {
   "cell_type": "code",
   "execution_count": 64,
   "metadata": {},
   "outputs": [
    {
     "output_type": "stream",
     "name": "stdout",
     "text": [
      "tensor([[[ 0.,  1.,  1.,  1.,  2.,  2.,  3.,  3.,  3.,  3.,  3.,  3.,  4.,  4.,\n           4.,  5.,  6.],\n         [ 1.,  0.,  2.,  2.,  3.,  3.,  4.,  4.,  4.,  4.,  4.,  4.,  5.,  5.,\n           5.,  6.,  7.],\n         [ 1.,  2.,  0.,  2.,  1.,  1.,  2.,  2.,  2.,  2.,  2.,  2.,  3.,  3.,\n           3.,  4.,  5.],\n         [ 1.,  2.,  2.,  0.,  3.,  3.,  4.,  4.,  4.,  4.,  4.,  4.,  5.,  5.,\n           5.,  6.,  7.],\n         [ 2.,  3.,  1.,  3.,  0.,  2.,  1.,  3.,  3.,  3.,  3.,  3.,  4.,  4.,\n           4.,  5.,  6.],\n         [ 2.,  3.,  1.,  3.,  2.,  0.,  3.,  1.,  1.,  1.,  1.,  1.,  2.,  2.,\n           2.,  3.,  4.],\n         [ 3.,  4.,  2.,  4.,  1.,  3.,  0.,  4.,  4.,  4.,  4.,  4.,  5.,  5.,\n           5.,  6.,  7.],\n         [ 3.,  4.,  2.,  4.,  3.,  1.,  4.,  0.,  2.,  2.,  2.,  2.,  3.,  3.,\n           3.,  4.,  5.],\n         [ 3.,  4.,  2.,  4.,  3.,  1.,  4.,  2.,  0.,  2.,  2.,  2.,  3.,  3.,\n           3.,  4.,  5.],\n         [ 3.,  4.,  2.,  4.,  3.,  1.,  4.,  2.,  2.,  0.,  2.,  2.,  3.,  3.,\n           3.,  4.,  5.],\n         [ 3.,  4.,  2.,  4.,  3.,  1.,  4.,  2.,  2.,  2.,  0.,  2.,  3.,  3.,\n           3.,  4.,  5.],\n         [ 3.,  4.,  2.,  4.,  3.,  1.,  4.,  2.,  2.,  2.,  2.,  0.,  1.,  1.,\n           1.,  2.,  3.],\n         [ 4.,  5.,  3.,  5.,  4.,  2.,  5.,  3.,  3.,  3.,  3.,  1.,  0.,  2.,\n           2.,  3.,  4.],\n         [ 4.,  5.,  3.,  5.,  4.,  2.,  5.,  3.,  3.,  3.,  3.,  1.,  2.,  0.,\n           2.,  3.,  4.],\n         [ 4.,  5.,  3.,  5.,  4.,  2.,  5.,  3.,  3.,  3.,  3.,  1.,  2.,  2.,\n           0.,  1.,  2.],\n         [ 5.,  6.,  4.,  6.,  5.,  3.,  6.,  4.,  4.,  4.,  4.,  2.,  3.,  3.,\n           1.,  0.,  1.],\n         [ 6.,  7.,  5.,  7.,  6.,  4.,  7.,  5.,  5.,  5.,  5.,  3.,  4.,  4.,\n           2.,  1.,  0.]],\n\n        [[ 0.,  1.,  1.,  1.,  1.,  1.,  2.,  2.,  2.,  2.,  3.,  3.,  3.,  3.,\n           4.,  4., -1.],\n         [ 1.,  0.,  2.,  2.,  2.,  2.,  1.,  3.,  3.,  3.,  2.,  4.,  4.,  4.,\n           5.,  5., -1.],\n         [ 1.,  2.,  0.,  2.,  2.,  2.,  3.,  3.,  3.,  3.,  4.,  4.,  4.,  4.,\n           5.,  5., -1.],\n         [ 1.,  2.,  2.,  0.,  2.,  2.,  3.,  3.,  3.,  3.,  4.,  4.,  4.,  4.,\n           5.,  5., -1.],\n         [ 1.,  2.,  2.,  2.,  0.,  2.,  3.,  1.,  1.,  1.,  4.,  2.,  2.,  2.,\n           3.,  3., -1.],\n         [ 1.,  2.,  2.,  2.,  2.,  0.,  3.,  3.,  3.,  3.,  4.,  4.,  4.,  4.,\n           5.,  5., -1.],\n         [ 2.,  1.,  3.,  3.,  3.,  3.,  0.,  4.,  4.,  4.,  1.,  5.,  5.,  5.,\n           6.,  6., -1.],\n         [ 2.,  3.,  3.,  3.,  1.,  3.,  4.,  0.,  2.,  2.,  5.,  3.,  3.,  3.,\n           4.,  4., -1.],\n         [ 2.,  3.,  3.,  3.,  1.,  3.,  4.,  2.,  0.,  2.,  5.,  3.,  3.,  3.,\n           4.,  4., -1.],\n         [ 2.,  3.,  3.,  3.,  1.,  3.,  4.,  2.,  2.,  0.,  5.,  1.,  1.,  1.,\n           2.,  2., -1.],\n         [ 3.,  2.,  4.,  4.,  4.,  4.,  1.,  5.,  5.,  5.,  0.,  6.,  6.,  6.,\n           7.,  7., -1.],\n         [ 3.,  4.,  4.,  4.,  2.,  4.,  5.,  3.,  3.,  1.,  6.,  0.,  2.,  2.,\n           3.,  3., -1.],\n         [ 3.,  4.,  4.,  4.,  2.,  4.,  5.,  3.,  3.,  1.,  6.,  2.,  0.,  2.,\n           3.,  3., -1.],\n         [ 3.,  4.,  4.,  4.,  2.,  4.,  5.,  3.,  3.,  1.,  6.,  2.,  2.,  0.,\n           1.,  1., -1.],\n         [ 4.,  5.,  5.,  5.,  3.,  5.,  6.,  4.,  4.,  2.,  7.,  3.,  3.,  1.,\n           0.,  2., -1.],\n         [ 4.,  5.,  5.,  5.,  3.,  5.,  6.,  4.,  4.,  2.,  7.,  3.,  3.,  1.,\n           2.,  0., -1.],\n         [-1., -1., -1., -1., -1., -1., -1., -1., -1., -1., -1., -1., -1., -1.,\n          -1., -1., -1.]]])\n"
     ]
    }
   ],
   "source": [
    "test_gold_distances()"
   ]
  },
  {
   "cell_type": "markdown",
   "metadata": {},
   "source": [
    "The next step is now to do the previous step the other way around. After all, we are mainly interested in predicting the node distances of a sentence, in order to recreate the corresponding parse tree.\n",
    "\n",
    "Hewitt et al. reconstruct a parse tree based on a _minimum spanning tree_ (MST, https://en.wikipedia.org/wiki/Minimum_spanning_tree). Fortunately for us, we can simply import a method from `scipy` that retrieves this MST."
   ]
  },
  {
   "cell_type": "code",
   "execution_count": 65,
   "metadata": {},
   "outputs": [],
   "source": [
    "from scipy.sparse.csgraph import minimum_spanning_tree\n",
    "import torch\n",
    "\n",
    "\n",
    "def create_mst(distances):\n",
    "    distances = torch.triu(distances).detach().numpy()\n",
    "    \n",
    "    mst = minimum_spanning_tree(distances).toarray()\n",
    "    mst[mst>0] = 1.\n",
    "    \n",
    "    return mst"
   ]
  },
  {
   "cell_type": "markdown",
   "metadata": {},
   "source": [
    "Let's have a look at what this looks like, by looking at a relatively short sentence in the sample corpus.\n",
    "\n",
    "If your addition to the `create_gold_distances` method has been correct, you should be able to run the following snippet. This then shows you the original parse tree, the distances between the nodes, and the MST that is retrieved from these distances. Can you spot the edges in the MST matrix that correspond to the edges in the parse tree?"
   ]
  },
  {
   "cell_type": "code",
   "execution_count": 77,
   "metadata": {},
   "outputs": [
    {
     "output_type": "stream",
     "name": "stdout",
     "text": [
      "tensor([[ 0.,  1.,  1.,  ..., -1., -1., -1.],\n        [ 1.,  0.,  2.,  ..., -1., -1., -1.],\n        [ 1.,  2.,  0.,  ..., -1., -1., -1.],\n        ...,\n        [-1., -1., -1.,  ..., -1., -1., -1.],\n        [-1., -1., -1.,  ..., -1., -1., -1.],\n        [-1., -1., -1.,  ..., -1., -1., -1.]]) \n\n[[ 0.  0.  0. ...  0.  0.  0.]\n [ 0.  0.  0. ...  0.  0. -1.]\n [ 0.  0.  0. ...  0.  0.  0.]\n ...\n [ 0.  0.  0. ...  0.  0.  0.]\n [ 0.  0.  0. ...  0.  0.  0.]\n [ 0.  0.  0. ...  0.  0.  0.]]\n"
     ]
    }
   ],
   "source": [
    "corpus = parse_corpus('data/sample/en_ewt-ud-train.conllu')\n",
    "item = corpus[5]\n",
    "tokentree = item.to_tree()\n",
    "ete3_tree = tokentree_to_ete(tokentree)\n",
    "# print(ete3_tree, '\\n')\n",
    "\n",
    "gold_distance = create_gold_distances(corpus[2:3])[0]\n",
    "print(gold_distance, '\\n')\n",
    "\n",
    "mst = create_mst(gold_distance)\n",
    "print(mst)"
   ]
  },
  {
   "cell_type": "markdown",
   "metadata": {},
   "source": [
    "Now that we are able to map edge distances back to parse trees, we can create code for our quantitative evaluation. For this we will use the Undirected Unlabeled Attachment Score (UUAS), which is expressed as:\n",
    "\n",
    "$$\\frac{\\text{number of predicted edges that are an edge in the gold parse tree}}{\\text{number of edges in the gold parse tree}}$$\n",
    "\n",
    "To do this, we will need to obtain all the edges from our MST matrix. Note that, since we are using undirected trees, that an edge can be expressed in 2 ways: an edge between node $i$ and node $j$ is denoted by both `mst[i,j] = 1`, or `mst[j,i] = 1`.\n",
    "\n",
    "You will write code that computes the UUAS score for a matrix of predicted distances, and the corresponding gold distances. I recommend you to split this up into 2 methods: 1 that retrieves the edges that are present in an MST matrix, and one general method that computes the UUAS score."
   ]
  },
  {
   "cell_type": "code",
   "execution_count": null,
   "metadata": {},
   "outputs": [],
   "source": [
    "def edges(mst):\n",
    "    edges = set()\n",
    "\n",
    "    # Your code for retrieving the edges from the MST matrix\n",
    "    mst = torch.tensor(mst)\n",
    "    edges = torch.nonzero(mst).long()\n",
    "    return edges\n",
    "\n",
    "\n",
    "def calc_uuas(pred_edges, gold_distances):\n",
    "    uuas = 0\n",
    "    n_correct = 0'\n",
    "    \n",
    "    # Your code for computing the UUAS score\n",
    "    for i in range(pred_edges.shape[0]):\n",
    "        for edge in pred_edges[i]:\n",
    "            print(pred_edges[i])\n",
    "            edge = edge.long()\n",
    "            if gold_distances[edge[0], edge[1]] == 1:\n",
    "                n_correct += 1\n",
    "        gold_distances = gold_distances.long()\n",
    "        n_gold = torch.sum(torch.where(gold_distances == 1, gold_distances, 0))/2\n",
    "        uuas += n_correct/n_gold\n",
    "\n",
    "    uuas /= pred_edges.shape[1]\n",
    "    return uuas\n",
    "\n",
    "\n",
    "def test_calc_uuas():\n",
    "    gold_distances = create_gold_distances(corpus)\n",
    "    for gold_distance in gold_distances:\n",
    "        mst = create_mst(gold_distance)\n",
    "        pred_edges = edges(mst)\n",
    "        uuas = calc_uuas(pred_edges, gold_distance)\n",
    "        if uuas != 1:\n",
    "            print(uuas)\n",
    "    print('Done')\n",
    "\n",
    "\n",
    "\n",
    "test_calc_uuas()"
   ]
  },
  {
   "cell_type": "markdown",
   "metadata": {},
   "source": [
    "# Structural Probes\n",
    "\n",
    "We now have everything in place to start doing the actual exciting stuff: training our structural probe!\n",
    "    \n",
    "To make life easier for you, we will simply take the `torch` code for this probe from John Hewitt's repository. This allows you to focus on the training regime from now on."
   ]
  },
  {
   "cell_type": "markdown",
   "metadata": {},
   "source": [
    "I have provided a rough outline for the training regime that you can use. Note that the hyper parameters that I provide here only serve as an indication, but should be (briefly) explored by yourself.\n",
    "\n",
    "As can be seen in Hewitt's code above, there exists functionality in the probe to deal with batched input. It is up to you to use that: a (less efficient) method can still incorporate batches by doing multiple forward passes for a batch and computing the backward pass only once for the summed losses of all these forward passes. (_I know, this is not the way to go, but in the interest of time that is allowed ;-), the purpose of the assignment is writing a good paper after all_)."
   ]
  },
  {
   "cell_type": "code",
   "execution_count": 108,
   "metadata": {},
   "outputs": [],
   "source": [
    "def evaluate_probe(loss_function, probe, data, labels, sen_lens):\n",
    "    predictions = probe.forward(data)\n",
    "    loss_score, total_sents = loss_function(predictions, labels, sen_lens)\n",
    "    # uuas_score = calc_uuas(predictions, labels)\n",
    "    uuas_score = 0\n",
    "    return loss_score, uuas_score"
   ]
  },
  {
   "cell_type": "code",
   "execution_count": 109,
   "metadata": {},
   "outputs": [],
   "source": [
    "from torch import optim\n",
    "from torch.utils.tensorboard import SummaryWriter\n",
    "import numpy as np\n",
    "\n",
    "def init_corpus(path, model, concat=False, cutoff=None):\n",
    "    \"\"\" Initialises the data of a corpus.\n",
    "    \n",
    "    Parameters\n",
    "    ----------\n",
    "    path : str\n",
    "        Path to corpus location\n",
    "    concat : bool, optional\n",
    "        Optional toggle to concatenate all the tensors\n",
    "        returned by `fetch_sen_reps`.\n",
    "    cutoff : int, optional\n",
    "        Optional integer to \"cutoff\" the data in the corpus.\n",
    "        This allows only a subset to be used, alleviating \n",
    "        memory usage.\n",
    "\n",
    "        N.B. I have switched fetch_sen_reps to batch_sen_reps and the output so first embs \n",
    "        and then gold_distances is returned.\n",
    "    \"\"\"\n",
    "\n",
    "    corpus = parse_corpus(path)[:cutoff]\n",
    "    embs = fetch_sen_reps(corpus, model, tokenizer, concat=concat)    \n",
    "    gold_distances = create_gold_distances(corpus)\n",
    "    sen_lens = torch.tensor([len(tokenlist) for tokenlist in corpus])\n",
    "    return embs, gold_distances, sen_lens\n",
    "\n"
   ]
  },
  {
   "cell_type": "code",
   "execution_count": 110,
   "metadata": {},
   "outputs": [
    {
     "output_type": "stream",
     "name": "stdout",
     "text": [
      "<class 'torch.Tensor'>\n<class 'torch.Tensor'>\n"
     ]
    }
   ],
   "source": [
    "def test_init_corpus():\n",
    "    cutoff = 2\n",
    "    model = gpt2\n",
    "    embs, gold_distances, sen_lens = init_corpus('data/sample/en_ewt-ud-train.conllu', model=model, cutoff=cutoff)\n",
    "    print(type(gold_distances))\n",
    "    print(type(gold_distances[0]))\n",
    "    \n",
    "\n",
    "test_init_corpus()\n"
   ]
  },
  {
   "cell_type": "code",
   "execution_count": 122,
   "metadata": {},
   "outputs": [],
   "source": [
    "def train(model, params=None, cutoff=None):\n",
    "\n",
    "    # set parameters\n",
    "    _params = {'epochs': 10, 'lr': 10e-4, 'batch_size': 24, 'rank': 64}\n",
    "    for k, v in params.items():\n",
    "        _params[k] = v\n",
    "\n",
    "    epochs = _params['epochs']\n",
    "    lr = _params['lr']\n",
    "    batch_size = _params['batch_size']\n",
    "    emb_dim = 768 if model == gpt2 else 650\n",
    "    rank = _params['rank']\n",
    "\n",
    "    #initalise the data\n",
    "    train_x, train_y, train_lens = init_corpus('data/sample/en_ewt-ud-train.conllu', model=model, cutoff=cutoff)\n",
    "    dev_x, dev_y, dev_lens = init_corpus('data/sample/en_ewt-ud-dev.conllu', model=model, cutoff=cutoff)\n",
    "    test_x, test_y, test_lens = init_corpus('data/sample/en_ewt-ud-test.conllu',model=model, cutoff=cutoff)\n",
    "\n",
    "    probe = StructuralProbe(emb_dim, rank)\n",
    "    optimizer = optim.Adam(probe.parameters(), lr=lr)\n",
    "    scheduler = optim.lr_scheduler.ReduceLROnPlateau(optimizer, mode='min', factor=0.5,patience=1)\n",
    "    loss_function =  L1DistanceLoss()\n",
    "\n",
    "    #Set up logging\n",
    "    writer = SummaryWriter()\n",
    "\n",
    "    for epoch in range(epochs):\n",
    "        print(epoch)\n",
    "        for i in range(0, train_x.shape[0], batch_size):\n",
    "            print(i)\n",
    "            optimizer.zero_grad()\n",
    "\n",
    "            # The forward pass\n",
    "            batch_data = train_x[i:i+batch_size, :, :]\n",
    "            batch_labels = train_y[i:i+batch_size]\n",
    "            preds = probe.forward(batch_data)\n",
    "\n",
    "            #Computing Training loss\n",
    "            sentence_lengths = 0\n",
    "            train_loss = loss_function.forward(preds, batch_labels, train_lens)[0]\n",
    "            train_loss.backward()\n",
    "            optimizer.step()\n",
    "\n",
    "        #Log last training loss on the epoch\n",
    "        writer.add_scalar('Loss/train', train_loss, epoch)\n",
    "      \n",
    "        #Compute dev loss for epoch\n",
    "        dev_loss, dev_uuas = evaluate_probe(loss_function, probe, dev_x, dev_y, dev_lens)\n",
    "        writer.add_scalar('Loss/dev', dev_loss, epoch)\n",
    "        writer.add_scalar('UUAS/dev', dev_uuas, epoch)\n",
    "\n",
    "        # Using a scheduler is up to you, and might require some hyper param fine-tuning\n",
    "        scheduler.step(dev_loss)\n",
    "\n",
    "    test_loss, test_uuas = evaluate_probe(loss_function, probe, test_x, test_y, test_lens)\n",
    "    writer.add_scalar('Loss/test', test_loss, epochs-1)\n",
    "    writer.add_scalar('UUAS/test', test_uuas, epochs-1)\n",
    "\n",
    "    write.close()"
   ]
  },
  {
   "cell_type": "code",
   "execution_count": 123,
   "metadata": {},
   "outputs": [],
   "source": [
    "import torch.nn as nn\n",
    "import torch\n",
    "\n",
    "\n",
    "class StructuralProbe(nn.Module):\n",
    "    \"\"\" Computes squared L2 distance after projection by a matrix.\n",
    "    For a batch of sentences, computes all n^2 pairs of distances\n",
    "    for each sentence in the batch.\n",
    "    \"\"\"\n",
    "    def __init__(self, model_dim, rank, device=\"cpu\"):\n",
    "        super().__init__()\n",
    "        self.probe_rank = rank\n",
    "        self.model_dim = model_dim\n",
    "        \n",
    "        self.proj = nn.Parameter(data = torch.zeros(self.model_dim, self.probe_rank))\n",
    "        \n",
    "        nn.init.uniform_(self.proj, -0.05, 0.05)\n",
    "        self.to(device)\n",
    "\n",
    "    def forward(self, batch):\n",
    "        \"\"\" Computes all n^2 pairs of distances after projection\n",
    "        for each sentence in a batch.\n",
    "        Note that due to padding, some distances will be non-zero for pads.\n",
    "        Computes (B(h_i-h_j))^T(B(h_i-h_j)) for all i,j\n",
    "        Args:\n",
    "          batch: a batch of word representations of the shape\n",
    "            (batch_size, max_seq_len, representation_dim)\n",
    "        Returns:\n",
    "          A tensor of distances of shape (batch_size, max_seq_len, max_seq_len)\n",
    "        \"\"\"\n",
    "\n",
    "        transformed = torch.matmul(batch, self.proj)\n",
    "        batchlen, seqlen, rank = transformed.size()\n",
    "        \n",
    "        transformed = transformed.unsqueeze(2)\n",
    "        transformed = transformed.expand(-1, -1, seqlen, -1)\n",
    "        transposed = transformed.transpose(1,2)\n",
    "        \n",
    "        diffs = transformed - transposed\n",
    "        \n",
    "        squared_diffs = diffs.pow(2)\n",
    "        squared_distances = torch.sum(squared_diffs, -1)\n",
    "\n",
    "        return squared_distances\n",
    "\n",
    "    \n",
    "class L1DistanceLoss(nn.Module):\n",
    "    \"\"\"Custom L1 loss for distance matrices.\"\"\"\n",
    "    def __init__(self):\n",
    "        super().__init__()\n",
    "\n",
    "    def forward(self, predictions, label_batch, length_batch):\n",
    "        \"\"\" Computes L1 loss on distance matrices.\n",
    "        Ignores all entries where label_batch=-1\n",
    "        Normalizes first within sentences (by dividing by the square of the sentence length)\n",
    "        and then across the batch.\n",
    "        Args:\n",
    "          predictions: A pytorch batch of predicted distances\n",
    "          label_batch: A pytorch batch of true distances\n",
    "          length_batch: A pytorch batch of sentence lengths\n",
    "        Returns:\n",
    "          A tuple of:\n",
    "            batch_loss: average loss in the batch\n",
    "            total_sents: number of sentences in the batch\n",
    "        \"\"\"\n",
    "        # Labels_1s will always be all 1's, as I do not include -1's in gold_distances,\n",
    "        # since this breaks the MST calculations.\n",
    "\n",
    "        label_batch\n",
    "        labels_1s = (label_batch != -1).float()\n",
    "        predictions_masked = predictions * labels_1s\n",
    "        labels_masked = label_batch * labels_1s\n",
    "        \n",
    "        total_sents = torch.sum((length_batch != 0)).float()\n",
    "        squared_lengths = length_batch.pow(2).float()\n",
    "\n",
    "        if total_sents > 0:\n",
    "            # loss_per_sent = torch.sum(torch.abs(predictions_masked - labels_masked), dim=(1,2))\n",
    "            loss_per_sent = torch.sum(torch.abs(predictions - label_batch), dim=(1,2))\n",
    "            normalized_loss_per_sent = loss_per_sent / squared_lengths\n",
    "            batch_loss = torch.sum(normalized_loss_per_sent) / total_sents\n",
    "        \n",
    "        else:\n",
    "            batch_loss = torch.tensor(0.0)\n",
    "        \n",
    "        return batch_loss, total_sents\n"
   ]
  },
  {
   "cell_type": "code",
   "execution_count": 181,
   "metadata": {},
   "outputs": [
    {
     "output_type": "stream",
     "name": "stdout",
     "text": [
      "tensor([1., 1., 1., 1., 0.])\n"
     ]
    }
   ],
   "source": []
  },
  {
   "cell_type": "code",
   "execution_count": 124,
   "metadata": {},
   "outputs": [
    {
     "output_type": "stream",
     "name": "stdout",
     "text": [
      "0\n0\n"
     ]
    },
    {
     "output_type": "error",
     "ename": "RuntimeError",
     "evalue": "The size of tensor a (2) must match the size of tensor b (90) at non-singleton dimension 0",
     "traceback": [
      "\u001b[1;31m---------------------------------------------------------------------------\u001b[0m",
      "\u001b[1;31mRuntimeError\u001b[0m                              Traceback (most recent call last)",
      "\u001b[1;32m<ipython-input-124-27fb696c6e97>\u001b[0m in \u001b[0;36m<module>\u001b[1;34m\u001b[0m\n\u001b[0;32m      9\u001b[0m \u001b[0mepochs\u001b[0m \u001b[1;33m=\u001b[0m \u001b[1;36m10\u001b[0m\u001b[1;33m\u001b[0m\u001b[1;33m\u001b[0m\u001b[0m\n\u001b[0;32m     10\u001b[0m \u001b[0mparams\u001b[0m \u001b[1;33m=\u001b[0m \u001b[1;33m{\u001b[0m\u001b[1;34m'epochs'\u001b[0m\u001b[1;33m:\u001b[0m \u001b[0mepochs\u001b[0m\u001b[1;33m,\u001b[0m \u001b[1;34m'lr'\u001b[0m\u001b[1;33m:\u001b[0m \u001b[0mlr\u001b[0m\u001b[1;33m,\u001b[0m \u001b[1;34m'batch_size'\u001b[0m\u001b[1;33m:\u001b[0m \u001b[0mbatch_size\u001b[0m\u001b[1;33m,\u001b[0m \u001b[1;34m'rank'\u001b[0m\u001b[1;33m:\u001b[0m \u001b[0mrank\u001b[0m\u001b[1;33m}\u001b[0m\u001b[1;33m\u001b[0m\u001b[1;33m\u001b[0m\u001b[0m\n\u001b[1;32m---> 11\u001b[1;33m \u001b[0mtrain\u001b[0m\u001b[1;33m(\u001b[0m\u001b[0mgpt2\u001b[0m\u001b[1;33m,\u001b[0m \u001b[0mparams\u001b[0m\u001b[1;33m,\u001b[0m \u001b[0mcutoff\u001b[0m\u001b[1;33m=\u001b[0m\u001b[1;36m100\u001b[0m\u001b[1;33m)\u001b[0m\u001b[1;33m\u001b[0m\u001b[1;33m\u001b[0m\u001b[0m\n\u001b[0m",
      "\u001b[1;32m<ipython-input-122-5acaa77b9520>\u001b[0m in \u001b[0;36mtrain\u001b[1;34m(model, params, cutoff)\u001b[0m\n\u001b[0;32m     38\u001b[0m             \u001b[1;31m#Computing Training loss\u001b[0m\u001b[1;33m\u001b[0m\u001b[1;33m\u001b[0m\u001b[1;33m\u001b[0m\u001b[0m\n\u001b[0;32m     39\u001b[0m             \u001b[0msentence_lengths\u001b[0m \u001b[1;33m=\u001b[0m \u001b[1;36m0\u001b[0m\u001b[1;33m\u001b[0m\u001b[1;33m\u001b[0m\u001b[0m\n\u001b[1;32m---> 40\u001b[1;33m             \u001b[0mtrain_loss\u001b[0m \u001b[1;33m=\u001b[0m \u001b[0mloss_function\u001b[0m\u001b[1;33m.\u001b[0m\u001b[0mforward\u001b[0m\u001b[1;33m(\u001b[0m\u001b[0mpreds\u001b[0m\u001b[1;33m,\u001b[0m \u001b[0mbatch_labels\u001b[0m\u001b[1;33m,\u001b[0m \u001b[0mtrain_lens\u001b[0m\u001b[1;33m)\u001b[0m\u001b[1;33m[\u001b[0m\u001b[1;36m0\u001b[0m\u001b[1;33m]\u001b[0m\u001b[1;33m\u001b[0m\u001b[1;33m\u001b[0m\u001b[0m\n\u001b[0m\u001b[0;32m     41\u001b[0m             \u001b[0mtrain_loss\u001b[0m\u001b[1;33m.\u001b[0m\u001b[0mbackward\u001b[0m\u001b[1;33m(\u001b[0m\u001b[1;33m)\u001b[0m\u001b[1;33m\u001b[0m\u001b[1;33m\u001b[0m\u001b[0m\n\u001b[0;32m     42\u001b[0m             \u001b[0moptimizer\u001b[0m\u001b[1;33m.\u001b[0m\u001b[0mstep\u001b[0m\u001b[1;33m(\u001b[0m\u001b[1;33m)\u001b[0m\u001b[1;33m\u001b[0m\u001b[1;33m\u001b[0m\u001b[0m\n",
      "\u001b[1;32m<ipython-input-123-cde922e56a50>\u001b[0m in \u001b[0;36mforward\u001b[1;34m(self, predictions, label_batch, length_batch)\u001b[0m\n\u001b[0;32m     78\u001b[0m             \u001b[1;31m# loss_per_sent = torch.sum(torch.abs(predictions_masked - labels_masked), dim=(1,2))\u001b[0m\u001b[1;33m\u001b[0m\u001b[1;33m\u001b[0m\u001b[1;33m\u001b[0m\u001b[0m\n\u001b[0;32m     79\u001b[0m             \u001b[0mloss_per_sent\u001b[0m \u001b[1;33m=\u001b[0m \u001b[0mtorch\u001b[0m\u001b[1;33m.\u001b[0m\u001b[0msum\u001b[0m\u001b[1;33m(\u001b[0m\u001b[0mtorch\u001b[0m\u001b[1;33m.\u001b[0m\u001b[0mabs\u001b[0m\u001b[1;33m(\u001b[0m\u001b[0mpredictions\u001b[0m \u001b[1;33m-\u001b[0m \u001b[0mlabel_batch\u001b[0m\u001b[1;33m)\u001b[0m\u001b[1;33m,\u001b[0m \u001b[0mdim\u001b[0m\u001b[1;33m=\u001b[0m\u001b[1;33m(\u001b[0m\u001b[1;36m1\u001b[0m\u001b[1;33m,\u001b[0m\u001b[1;36m2\u001b[0m\u001b[1;33m)\u001b[0m\u001b[1;33m)\u001b[0m\u001b[1;33m\u001b[0m\u001b[1;33m\u001b[0m\u001b[0m\n\u001b[1;32m---> 80\u001b[1;33m             \u001b[0mnormalized_loss_per_sent\u001b[0m \u001b[1;33m=\u001b[0m \u001b[0mloss_per_sent\u001b[0m \u001b[1;33m/\u001b[0m \u001b[0msquared_lengths\u001b[0m\u001b[1;33m\u001b[0m\u001b[1;33m\u001b[0m\u001b[0m\n\u001b[0m\u001b[0;32m     81\u001b[0m             \u001b[0mbatch_loss\u001b[0m \u001b[1;33m=\u001b[0m \u001b[0mtorch\u001b[0m\u001b[1;33m.\u001b[0m\u001b[0msum\u001b[0m\u001b[1;33m(\u001b[0m\u001b[0mnormalized_loss_per_sent\u001b[0m\u001b[1;33m)\u001b[0m \u001b[1;33m/\u001b[0m \u001b[0mtotal_sents\u001b[0m\u001b[1;33m\u001b[0m\u001b[1;33m\u001b[0m\u001b[0m\n\u001b[0;32m     82\u001b[0m \u001b[1;33m\u001b[0m\u001b[0m\n",
      "\u001b[1;31mRuntimeError\u001b[0m: The size of tensor a (2) must match the size of tensor b (90) at non-singleton dimension 0"
     ]
    }
   ],
   "source": [
    "\n",
    "#available models are gpt2 and lstm\n",
    "#model = gpt2\n",
    "#model = lstm\n",
    "# default params: rank = 64, lr = 10e-4, batch_size = 24, epochs = 10\n",
    "#emb_dim needs to be 768 for gpt2 and 650 for lstm\n",
    "rank = 64\n",
    "lr = 10e-4\n",
    "batch_size = 2\n",
    "epochs = 10\n",
    "params = {'epochs': epochs, 'lr': lr, 'batch_size': batch_size, 'rank': rank}\n",
    "train(gpt2, params, cutoff=100)"
   ]
  },
  {
   "cell_type": "code",
   "execution_count": 115,
   "metadata": {},
   "outputs": [
    {
     "output_type": "display_data",
     "data": {
      "text/plain": "ERROR: Failed to launch TensorBoard (exited with 1).\nContents of stderr:\nTraceback (most recent call last):\n  File \"c:\\users\\aukee\\miniconda3\\lib\\runpy.py\", line 194, in _run_module_as_main\n    return _run_code(code, main_globals, None,\n  File \"c:\\users\\aukee\\miniconda3\\lib\\runpy.py\", line 87, in _run_code\n    exec(code, run_globals)\n  File \"C:\\Users\\aukee\\miniconda3\\Scripts\\tensorboard.exe\\__main__.py\", line 4, in <module>\n  File \"c:\\users\\aukee\\miniconda3\\lib\\site-packages\\tensorboard\\main.py\", line 43, in <module>\n    from tensorboard import default\n  File \"c:\\users\\aukee\\miniconda3\\lib\\site-packages\\tensorboard\\default.py\", line 36, in <module>\n    from tensorboard.plugins.audio import audio_plugin\n  File \"c:\\users\\aukee\\miniconda3\\lib\\site-packages\\tensorboard\\plugins\\audio\\audio_plugin.py\", line 27, in <module>\n    from tensorboard.data import provider\n  File \"c:\\users\\aukee\\miniconda3\\lib\\site-packages\\tensorboard\\data\\__init__.py\", line 20, in <module>\n    from tensorboard.data import experimental  # noqa: F401\n  File \"c:\\users\\aukee\\miniconda3\\lib\\site-packages\\tensorboard\\data\\experimental\\__init__.py\", line 20, in <module>\n    from tensorboard.data.experimental.experiment_from_dev import (  # noqa: F401\n  File \"c:\\users\\aukee\\miniconda3\\lib\\site-packages\\tensorboard\\data\\experimental\\experiment_from_dev.py\", line 24, in <module>\n    import grpc\nModuleNotFoundError: No module named 'grpc'"
     },
     "metadata": {}
    }
   ],
   "source": []
  },
  {
   "source": [
    "Structural Control task\n",
    "\n",
    "For every tree, make sure that:\n",
    "\n",
    "all nodes are connected to either the first or a child of the first node\n",
    "\n"
   ],
   "cell_type": "markdown",
   "metadata": {}
  },
  {
   "cell_type": "code",
   "execution_count": 105,
   "metadata": {},
   "outputs": [],
   "source": [
    "import numpy as np\n",
    "import random\n",
    "from ete3 import Tree as EteTree\n",
    "\n",
    "\n",
    "def create_control_trees(corpus, depth=2):\n",
    "    trees = [] * len(corpus)\n",
    "    for i in range(len((corpus))):\n",
    "            item = corpus[i]\n",
    "            tokentree = item.to_tree()\n",
    "            ete_tree = tokentree_to_ete(tokentree)\n",
    "            print(ete_tree)\n",
    "            levels = [[] for i in range(depth)]\n",
    "            root = ete_tree.get_tree_root().detach()\n",
    "            for node in ete_tree.iter_descendants('preorder'):\n",
    "                level = random.choice(levels)\n",
    "                level.append(node.detach())\n",
    "             \n",
    "            levels = [level for level in levels if len(level) != 0]\n",
    "\n",
    "            for i in range(len(levels)):\n",
    "                if i == 0:\n",
    "                    for node in levels[0]:\n",
    "                        root.add_child(node)\n",
    "                else:\n",
    "                    for node in levels[i]:\n",
    "                        parent = random.choice(levels[i-1])\n",
    "                        parent.add_child(node)\n",
    "           \n",
    "            trees.append(ete_tree)\n",
    "    return trees\n",
    "\n",
    "\n"
   ]
  },
  {
   "cell_type": "code",
   "execution_count": 109,
   "metadata": {},
   "outputs": [
    {
     "output_type": "stream",
     "name": "stdout",
     "text": [
      "\n   /-2\n  |\n  |--3\n  |\n  |--4\n  |\n  |   /6 /-5\n  |  |\n  |  |   /-9\n  |  |  |\n  |  |  |--10\n  |  |  |\n  |  |  |--11\n  |  |-8|\n  |  |  |--12\n  |-7|  |\n  |  |  |--13\n  |  |  |\n  |  |   \\15/-14\n-1|  |\n  |  |   /-16\n  |  |  |\n  |  |  |--17\n  |  |  |\n  |   \\18   /-19\n  |     |  |\n  |     |  |--20\n  |     |  |\n  |     |  |-23/-22\n  |      \\21\n  |        |--24\n  |        |\n  |        |   /-25\n  |        |  |\n  |         \\28--26\n  |           |\n  |            \\-27\n  |\n   \\-29\n\n   /-1\n  |\n  |   /-2\n  |  |\n  |-3|   /-4\n  |  |  |\n  |   \\7|--5\n  |     |\n  |      \\-6\n  |\n  |--8\n  |\n-10--9\n  |\n  |--11\n  |\n  |--12\n  |\n  |   /-13\n  |-14\n  |   \\16/-15\n  |\n  |--17\n  |\n   \\-18\n[\n            /7 /-27\n         /3|\n        |   \\22/-9\n        |\n        |      /-4\n        |     |\n        |-15/19--6\n        |     |\n   /5 /18      \\-10\n  |     |\n  |     |--16\n  |     |\n  |     |      /-8\n  |     |-28/24\n  |     |      \\-23\n  |     |\n  |      \\-25\n-1|\n  |--12\n  |\n  |--13\n  |\n  |--17\n  |\n  |-20/-26\n  |\n   \\29/21/2 /14/-11, \n   /-1\n  |\n-10   /-7\n  |  |\n  |  |   /-11\n   \\8|  |\n     |  |   /9 /-4\n     |  |  |\n      \\18  |   /-3\n        |  |  |\n        |  |  |--5\n        |  |  |\n         \\16-13--6\n           |  |\n           |  |--12\n           |  |\n           |   \\-17\n           |\n           |   /-2\n            \\15\n               \\-14]\n"
     ]
    }
   ],
   "source": [
    "from ete3 import Tree\n",
    "t = Tree(\"(A:1,(B:1,(E:1,D:1):0.5):0.5);\" )\n",
    "\n",
    "def test_control_tree():\n",
    "    corpus = parse_corpus('data/sample/en_ewt-ud-train.conllu')[:2]\n",
    "    tree = create_control_trees(corpus, depth=5)\n",
    "    print(tree)\n",
    "\n",
    "test_control_tree()\n",
    "\n"
   ]
  },
  {
   "cell_type": "code",
   "execution_count": 108,
   "metadata": {},
   "outputs": [],
   "source": [
    "def fetch_control_pos_tags(corpus, n_tags=17):\n",
    "    pos_tags = {}\n",
    "    for tokenlist in corpus:\n",
    "        for token in tokenlist:\n",
    "            pos_tags[token] = pos_tags.get(token, default=np.random.randint(1, high=n_tags+1))"
   ]
  },
  {
   "cell_type": "code",
   "execution_count": null,
   "metadata": {},
   "outputs": [],
   "source": []
  }
 ],
 "metadata": {
  "kernelspec": {
   "display_name": "Python 3",
   "language": "python",
   "name": "python3"
  },
  "language_info": {
   "codemirror_mode": {
    "name": "ipython",
    "version": 3
   },
   "file_extension": ".py",
   "mimetype": "text/x-python",
   "name": "python",
   "nbconvert_exporter": "python",
   "pygments_lexer": "ipython3",
   "version": "3.8.8-final"
  },
  "toc": {
   "base_numbering": 1,
   "nav_menu": {},
   "number_sections": true,
   "sideBar": true,
   "skip_h1_title": false,
   "title_cell": "Table of Contents",
   "title_sidebar": "Contents",
   "toc_cell": false,
   "toc_position": {},
   "toc_section_display": true,
   "toc_window_display": false
  }
 },
 "nbformat": 4,
 "nbformat_minor": 2
}